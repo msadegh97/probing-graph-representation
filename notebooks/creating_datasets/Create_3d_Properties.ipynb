{
 "cells": [
  {
   "cell_type": "code",
   "execution_count": 2,
   "id": "4c2a6336",
   "metadata": {},
   "outputs": [],
   "source": [
    "from tqdm import tqdm\n",
    "import pandas as pd\n",
    "from rdkit.Chem import Descriptors3D\n",
    "import rdkit"
   ]
  },
  {
   "cell_type": "code",
   "execution_count": 9,
   "id": "c08a90fd",
   "metadata": {},
   "outputs": [],
   "source": [
    "path = '../../../../workspace/others/sdf/pcqm4m-v2-train.sdf'"
   ]
  },
  {
   "cell_type": "code",
   "execution_count": 10,
   "id": "530ba059",
   "metadata": {},
   "outputs": [],
   "source": [
    "def compute3d_properies(m):\n",
    "    prop = []\n",
    "    prop.append(Descriptors3D.Asphericity(m))\n",
    "    prop.append(Descriptors3D.Eccentricity(m))\n",
    "    prop.append(Descriptors3D.InertialShapeFactor(m))\n",
    "    prop.append(Descriptors3D.NPR1(m))\n",
    "    prop.append(Descriptors3D.NPR2(m))\n",
    "    prop.append(Descriptors3D.PMI1(m))\n",
    "    prop.append(Descriptors3D.PMI2(m))\n",
    "    prop.append(Descriptors3D.PMI3(m))\n",
    "    prop.append(Descriptors3D.RadiusOfGyration(m))\n",
    "    prop.append(Descriptors3D.SpherocityIndex(m))\n",
    "    return prop "
   ]
  },
  {
   "cell_type": "code",
   "execution_count": 11,
   "id": "61bf43b3",
   "metadata": {},
   "outputs": [
    {
     "name": "stderr",
     "output_type": "stream",
     "text": [
      "  4%|█████▋                                                                                                                            | 148261/3378606 [00:38<13:26, 4007.17it/s][15:07:00] Warning: molecule is tagged as 3D, but all Z coords are zero\n",
      " 49%|███████████████████████████████████████████████████████████████                                                                  | 1651932/3378606 [07:44<07:19, 3931.93it/s][15:14:06] WARNING: not removing hydrogen atom without neighbors\n",
      "[15:14:06] WARNING: not removing hydrogen atom without neighbors\n",
      "[15:14:06] WARNING: not removing hydrogen atom without neighbors\n",
      " 52%|███████████████████████████████████████████████████████████████████▎                                                             | 1761675/3378606 [08:12<07:07, 3785.23it/s][15:14:34] WARNING: not removing hydrogen atom without neighbors\n",
      "[15:14:34] WARNING: not removing hydrogen atom without neighbors\n",
      " 56%|████████████████████████████████████████████████████████████████████████▎                                                        | 1894107/3378606 [08:46<06:17, 3931.50it/s][15:15:08] WARNING: not removing hydrogen atom without neighbors\n",
      "[15:15:08] WARNING: not removing hydrogen atom without neighbors\n",
      "[15:15:08] WARNING: not removing hydrogen atom without neighbors\n",
      " 57%|█████████████████████████████████████████████████████████████████████████▎                                                       | 1921134/3378606 [08:53<05:53, 4121.22it/s][15:15:14] Conflicting single bond directions around double bond at index 4.\n",
      "[15:15:14]   BondStereo set to STEREONONE and single bond directions set to NONE.\n",
      " 58%|██████████████████████████████████████████████████████████████████████████▊                                                      | 1960721/3378606 [09:02<05:19, 4435.52it/s][15:15:24] Warning: molecule is tagged as 3D, but all Z coords are zero\n",
      " 75%|█████████████████████████████████████████████████████████████████████████████████████████████████▍                               | 2550382/3378606 [11:42<03:31, 3917.29it/s][15:18:03] Warning: molecule is tagged as 3D, but all Z coords are zero\n",
      " 77%|███████████████████████████████████████████████████████████████████████████████████████████████████▏                             | 2597335/3378606 [11:53<03:13, 4027.83it/s][15:18:15] Warning: molecule is tagged as 3D, but all Z coords are zero\n",
      " 82%|██████████████████████████████████████████████████████████████████████████████████████████████████████████                       | 2778599/3378606 [12:38<02:30, 3975.92it/s][15:19:00] Warning: molecule is tagged as 3D, but all Z coords are zero\n",
      " 82%|██████████████████████████████████████████████████████████████████████████████████████████████████████████▍                      | 2786573/3378606 [12:40<02:35, 3815.14it/s][15:19:02] Warning: molecule is tagged as 3D, but all Z coords are zero\n",
      " 83%|███████████████████████████████████████████████████████████████████████████████████████████████████████████▋                     | 2821116/3378606 [12:49<02:17, 4040.90it/s][15:19:11] Warning: molecule is tagged as 3D, but all Z coords are zero\n",
      " 85%|█████████████████████████████████████████████████████████████████████████████████████████████████████████████▏                   | 2860855/3378606 [12:58<02:04, 4148.97it/s][15:19:20] Warning: molecule is tagged as 3D, but all Z coords are zero\n",
      " 85%|██████████████████████████████████████████████████████████████████████████████████████████████████████████████▎                  | 2888382/3378606 [13:05<01:57, 4189.48it/s][15:19:27] Warning: molecule is tagged as 3D, but all Z coords are zero\n",
      " 87%|████████████████████████████████████████████████████████████████████████████████████████████████████████████████                 | 2934434/3378606 [13:17<01:50, 4002.84it/s][15:19:39] Warning: molecule is tagged as 3D, but all Z coords are zero\n",
      " 88%|█████████████████████████████████████████████████████████████████████████████████████████████████████████████████▊               | 2980407/3378606 [13:29<01:39, 4013.11it/s][15:19:51] Warning: molecule is tagged as 3D, but all Z coords are zero\n",
      " 89%|██████████████████████████████████████████████████████████████████████████████████████████████████████████████████▏              | 2990892/3378606 [13:31<01:34, 4098.82it/s][15:19:53] Warning: molecule is tagged as 3D, but all Z coords are zero\n",
      "100%|█████████████████████████████████████████████████████████████████████████████████████████████████████████████████████████████████| 3378606/3378606 [15:09<00:00, 3714.76it/s]\n"
     ]
    }
   ],
   "source": [
    "sup = rdkit.Chem.SDMolSupplier(path)\n",
    "properties = []\n",
    "for i in tqdm(sup):\n",
    "    properties.append(compute3d_properies(i))"
   ]
  },
  {
   "cell_type": "code",
   "execution_count": null,
   "id": "b5f0a1cc",
   "metadata": {},
   "outputs": [],
   "source": [
    "\n",
    "data = pd.DataFrame(properties, columns=['Asphericity', 'Eccentricity', 'InertialShapeFactor', 'NPR1', 'NPR2', 'PMI1', 'PMI2', 'PMI3', 'RadiusOfGyration', 'SpherocityIndex'])\n"
   ]
  },
  {
   "cell_type": "code",
   "execution_count": null,
   "id": "944a3124",
   "metadata": {},
   "outputs": [],
   "source": [
    "data.to_csv('./prop_3d.csv', index=False)"
   ]
  }
 ],
 "metadata": {
  "kernelspec": {
   "display_name": "Python 3 (ipykernel)",
   "language": "python",
   "name": "python3"
  },
  "language_info": {
   "codemirror_mode": {
    "name": "ipython",
    "version": 3
   },
   "file_extension": ".py",
   "mimetype": "text/x-python",
   "name": "python",
   "nbconvert_exporter": "python",
   "pygments_lexer": "ipython3",
   "version": "3.8.12"
  }
 },
 "nbformat": 4,
 "nbformat_minor": 5
}

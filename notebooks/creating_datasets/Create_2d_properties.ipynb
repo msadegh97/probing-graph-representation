{
 "cells": [
  {
   "cell_type": "code",
   "execution_count": null,
   "id": "d3d59bda",
   "metadata": {},
   "outputs": [],
   "source": [
    "import numpy as np \n",
    "import pandas as pd \n",
    "import sys\n",
    "from ogb.graphproppred import GraphPropPredDataset\n",
    "sys.path.append('..')\n",
    "from codes.utils import compute_properties"
   ]
  },
  {
   "cell_type": "code",
   "execution_count": null,
   "id": "505faaef",
   "metadata": {},
   "outputs": [],
   "source": [
    "molhiv_smiles = pd.read_csv('./dataset/ogbg_molhiv/mapping/mol.csv.gz')"
   ]
  },
  {
   "cell_type": "code",
   "execution_count": null,
   "id": "4092668c",
   "metadata": {},
   "outputs": [],
   "source": [
    "desc, prop = compute_properties(molhiv_smiles.smiles)"
   ]
  },
  {
   "cell_type": "code",
   "execution_count": null,
   "id": "df6e02f4",
   "metadata": {},
   "outputs": [],
   "source": [
    "prop['smiles'] = molhiv_smiles.smiles"
   ]
  },
  {
   "cell_type": "code",
   "execution_count": null,
   "id": "b1714595",
   "metadata": {},
   "outputs": [],
   "source": [
    "prop.to_csv('../Datasets/2D_Properties/obgb_molhiv_2dproperties.csv', index=False)"
   ]
  },
  {
   "cell_type": "markdown",
   "id": "949e273c",
   "metadata": {},
   "source": [
    "## MOLPCBA"
   ]
  },
  {
   "cell_type": "code",
   "execution_count": null,
   "id": "d8a0241b",
   "metadata": {},
   "outputs": [],
   "source": [
    "molpcba_dataset = GraphPropPredDataset('ogbg-molpcba')"
   ]
  },
  {
   "cell_type": "code",
   "execution_count": null,
   "id": "eceb52a8",
   "metadata": {},
   "outputs": [],
   "source": [
    "molpcba_smiles = pd.read_csv('./dataset/ogbg_molpcba/mapping/mol.csv.gz')"
   ]
  },
  {
   "cell_type": "code",
   "execution_count": null,
   "id": "cf89a65a",
   "metadata": {},
   "outputs": [],
   "source": [
    "desc, prop = compute_properties(molpcba_smiles.smiles)"
   ]
  },
  {
   "cell_type": "code",
   "execution_count": null,
   "id": "74eac8fa",
   "metadata": {},
   "outputs": [],
   "source": [
    "prop['smiles'] = molpcba_smiles.smiles"
   ]
  },
  {
   "cell_type": "code",
   "execution_count": null,
   "id": "ef61495a",
   "metadata": {},
   "outputs": [],
   "source": [
    "prop.to_csv('../Datasets/2D_Properties/obgb_molpcba_2dproperties.csv', index=False)"
   ]
  },
  {
   "cell_type": "markdown",
   "id": "10ad4ec7",
   "metadata": {},
   "source": [
    "## PCQM4Mv2"
   ]
  },
  {
   "cell_type": "code",
   "execution_count": null,
   "id": "1a4a9085",
   "metadata": {},
   "outputs": [],
   "source": [
    "from ogb.lsc import PCQM4Mv2Dataset"
   ]
  },
  {
   "cell_type": "code",
   "execution_count": null,
   "id": "c396182e",
   "metadata": {},
   "outputs": [],
   "source": [
    "pcqm_dataset = PCQM4Mv2Dataset(only_smiles=True)"
   ]
  },
  {
   "cell_type": "code",
   "execution_count": null,
   "id": "252790fb",
   "metadata": {},
   "outputs": [],
   "source": [
    "pcqm_smiles = pcqm_dataset.graphs"
   ]
  "metadata": {      
  "kernelspec": { 
   "display_name": "Python 3 (ipykernel)",
   "language": "python",
   "name": "python3"                                               
  },
  "language_info": {
   "codemirror_mode": {
    "name": "ipython", 
    "version": 3         
   },               
   "file_extension": ".py",
   "mimetype": "text/x-python",
   "name": "python",
   "nbconvert_exporter": "python",  
   "pygments_lexer": "ipython3",
   "version": "3.8.12"                                
  }                                                    
 },                                                           
 "nbformat": 4,                                
 "nbformat_minor": 5      

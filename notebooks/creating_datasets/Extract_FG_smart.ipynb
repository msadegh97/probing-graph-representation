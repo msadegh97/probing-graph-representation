{
 "cells": [
  {
   "cell_type": "code",
   "execution_count": 12,
   "id": "b26c8317",
   "metadata": {},
   "outputs": [],
   "source": [
    "import pandas as pd \n",
    "import numpy as np\n",
    "from rdkit import Chem\n",
    "import datamol as dm\n",
    "import matplotlib.pyplot as plt\n",
    "from tqdm import tqdm\n",
    "from torch_geometric.data import download_url"
   ]
  },
  {
   "cell_type": "code",
   "execution_count": 27,
   "id": "99ee8c64",
   "metadata": {},
   "outputs": [
    {
     "name": "stderr",
     "output_type": "stream",
     "text": [
      "Downloading https://raw.githubusercontent.com/rdkit/rdkit/master/Data/FunctionalGroups.txt\n"
     ]
    },
    {
     "data": {
      "text/plain": [
       "'./FunctionalGroups.txt'"
      ]
     },
     "execution_count": 27,
     "metadata": {},
     "output_type": "execute_result"
    }
   ],
   "source": [
    "download_url('https://raw.githubusercontent.com/rdkit/rdkit/master/Data/FunctionalGroups.txt', './')"
   ]
  },
  {
   "cell_type": "code",
   "execution_count": 29,
   "id": "51264619",
   "metadata": {},
   "outputs": [
    {
     "data": {
      "text/html": [
       "<div>\n",
       "<style scoped>\n",
       "    .dataframe tbody tr th:only-of-type {\n",
       "        vertical-align: middle;\n",
       "    }\n",
       "\n",
       "    .dataframe tbody tr th {\n",
       "        vertical-align: top;\n",
       "    }\n",
       "\n",
       "    .dataframe thead th {\n",
       "        text-align: right;\n",
       "    }\n",
       "</style>\n",
       "<table border=\"1\" class=\"dataframe\">\n",
       "  <thead>\n",
       "    <tr style=\"text-align: right;\">\n",
       "      <th></th>\n",
       "      <th>functional group</th>\n",
       "      <th>smart</th>\n",
       "      <th>name</th>\n",
       "    </tr>\n",
       "  </thead>\n",
       "  <tbody>\n",
       "    <tr>\n",
       "      <th>0</th>\n",
       "      <td>-NC(=O)CH3</td>\n",
       "      <td>*-[N;D2]-[C;D3](=O)-[C;D1;H3]</td>\n",
       "      <td>methyl amide</td>\n",
       "    </tr>\n",
       "    <tr>\n",
       "      <th>1</th>\n",
       "      <td>-C(=O)O</td>\n",
       "      <td>*-C(=O)[O;D1]</td>\n",
       "      <td>carboxylic acids</td>\n",
       "    </tr>\n",
       "    <tr>\n",
       "      <th>2</th>\n",
       "      <td>-C(=O)OMe</td>\n",
       "      <td>*-C(=O)[O;D2]-[C;D1;H3]</td>\n",
       "      <td>carbonyl methyl ester</td>\n",
       "    </tr>\n",
       "    <tr>\n",
       "      <th>3</th>\n",
       "      <td>-C(=O)H</td>\n",
       "      <td>*-C(=O)-[C;D1]</td>\n",
       "      <td>terminal aldehyde</td>\n",
       "    </tr>\n",
       "    <tr>\n",
       "      <th>4</th>\n",
       "      <td>-C(=O)N</td>\n",
       "      <td>*-C(=O)-[N;D1]</td>\n",
       "      <td>amide</td>\n",
       "    </tr>\n",
       "  </tbody>\n",
       "</table>\n",
       "</div>"
      ],
      "text/plain": [
       "  functional group                          smart                   name\n",
       "0       -NC(=O)CH3  *-[N;D2]-[C;D3](=O)-[C;D1;H3]           methyl amide\n",
       "1          -C(=O)O                  *-C(=O)[O;D1]       carboxylic acids\n",
       "2        -C(=O)OMe        *-C(=O)[O;D2]-[C;D1;H3]  carbonyl methyl ester\n",
       "3          -C(=O)H                 *-C(=O)-[C;D1]      terminal aldehyde\n",
       "4          -C(=O)N                 *-C(=O)-[N;D1]                  amide"
      ]
     },
     "execution_count": 29,
     "metadata": {},
     "output_type": "execute_result"
    }
   ],
   "source": [
    "file = open('./FunctionalGroups.txt', 'r')\n",
    "rows= []\n",
    "for i in file:\n",
    "    if i.startswith('//') or i.startswith('\\n'):\n",
    "        continue\n",
    "    else:\n",
    "        row = i[:-1].split(sep='\\t')\n",
    "        rows.append(row)\n",
    "data = []\n",
    "for i in rows:\n",
    "    data.append([i[0], i[1].replace(' ', ''), i[-1]])\n",
    "        \n",
    "\n",
    "pattern_data = pd.DataFrame(data, columns=['functional group', 'smart', 'name'])\n",
    "\n",
    "pattern_data.head()"
   ]
  },
  {
   "cell_type": "code",
   "execution_count": null,
   "id": "436bd5a0",
   "metadata": {},
   "outputs": [],
   "source": [
    "pd.read_csv('./Functional_Group_SMARTS.csv', index=False)"
   ]
  }
 ],
 "metadata": {
  "kernelspec": {
   "display_name": "Python 3 (ipykernel)",
   "language": "python",
   "name": "python3"
  },
  "language_info": {
   "codemirror_mode": {
    "name": "ipython",
    "version": 3
   },
   "file_extension": ".py",
   "mimetype": "text/x-python",
   "name": "python",
   "nbconvert_exporter": "python",
   "pygments_lexer": "ipython3",
   "version": "3.8.12"
  }
 },
 "nbformat": 4,
 "nbformat_minor": 5
}

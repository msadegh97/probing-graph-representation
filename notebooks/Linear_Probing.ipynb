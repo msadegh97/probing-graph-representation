{
 "cells": [
  {
   "cell_type": "code",
   "execution_count": 13,
   "id": "29ed0fae",
   "metadata": {},
   "outputs": [],
   "source": [
    "import sys\n",
    "import os\n",
    "from argparse import Namespace\n",
    "import deepchem as dc\n",
    "from rdkit import Chem\n",
    "from sklearn import preprocessing\n",
    "from sklearn.linear_model import LinearRegression, LogisticRegression\n",
    "from sklearn.metrics import roc_auc_score, mean_absolute_error, mean_squared_error, log_loss, accuracy_score, f1_score\n",
    "from ogb.lsc import PCQM4Mv2Dataset\n",
    "import pickle\n",
    "import torch\n",
    "sys.path.append('../codes/')\n",
    "from utils import *\n",
    "\n",
    "sys.path.append('../codes/models/GNN/')\n",
    "from fingerprint_model import get_fingerprint_GNN\n"
   ]
  },
  {
   "cell_type": "markdown",
   "id": "33274c60",
   "metadata": {},
   "source": [
    "## Linear Probing\n",
    "\n"
   ]
  },
  {
   "cell_type": "code",
   "execution_count": 26,
   "id": "c2aed4e4",
   "metadata": {},
   "outputs": [],
   "source": [
    "root='../dataset'\n",
    "seeds=[10,20,30]\n",
    "gnns = ['gcn']"
   ]
  },
  {
   "cell_type": "code",
   "execution_count": null,
   "id": "ae4f9fcf",
   "metadata": {},
   "outputs": [],
   "source": [
    "# import pickle \n",
    "# with open('../pcqmv2_subset_dataset.pkl', 'rb') as handle:\n",
    "#     ids = pickle.load(handle)\n",
    "# train_ids = ids['train_ids_100k']\n",
    "\n",
    "# with open('../pcqmv2_valid_subset_dataset.pickle', 'rb') as handle:\n",
    "#     ids_valid = pickle.load(handle)\n",
    "# valid_ids = ids_valid['valid_train_ids_100k']\n"
   ]
  },
  {
   "cell_type": "code",
   "execution_count": 6,
   "id": "de7ec27e",
   "metadata": {},
   "outputs": [
    {
     "name": "stdout",
     "output_type": "stream",
     "text": [
      "Downloading https://dgl-data.s3-accelerate.amazonaws.com/dataset/OGB-LSC/pcqm4m-v2.zip\n"
     ]
    },
    {
     "name": "stderr",
     "output_type": "stream",
     "text": [
      "Downloaded 0.06 GB: 100%|████████████████████████████████████████████████████████████████████| 60/60 [00:02<00:00, 23.79it/s]\n"
     ]
    },
    {
     "name": "stdout",
     "output_type": "stream",
     "text": [
      "Extracting ../dataset/pcqm4m-v2.zip\n"
     ]
    }
   ],
   "source": [
    "dataset = PCQM4Mv2Dataset(root=root, only_smiles=True)\n",
    "splits= dataset.get_idx_split()\n",
    "all_data = pd.read_csv(os.path.join(root,'pcqm4m-v2/raw/data.csv.gz'))\n"
   ]
  },
  {
   "cell_type": "code",
   "execution_count": 12,
   "id": "68a34d21",
   "metadata": {},
   "outputs": [
    {
     "data": {
      "text/plain": [
       "73545"
      ]
     },
     "execution_count": 12,
     "metadata": {},
     "output_type": "execute_result"
    }
   ],
   "source": [
    "len(valid_ids)"
   ]
  },
  {
   "cell_type": "code",
   "execution_count": 18,
   "id": "0c0b4d3e",
   "metadata": {},
   "outputs": [],
   "source": [
    "train_ids = splits['train'][torch.randperm(len(splits['train']))[:100000]]\n",
    "valid_ids = splits['valid']"
   ]
  },
  {
   "cell_type": "code",
   "execution_count": 19,
   "id": "a6c176eb",
   "metadata": {},
   "outputs": [],
   "source": [
    "smiles_train = all_data.iloc[train_ids].smiles.values.tolist() \n",
    "smiles_test= all_data.iloc[valid_ids].smiles.values.tolist() \n"
   ]
  },
  {
   "cell_type": "code",
   "execution_count": 20,
   "id": "cf0b6045",
   "metadata": {},
   "outputs": [
    {
     "name": "stdout",
     "output_type": "stream",
     "text": [
      "________________________________________________________________________________\n",
      "[Memory] Calling utils.compute_properties...\n",
      "compute_properties([ 'O=CO[C@H](N(Cc1ccccc1)C)C',\n",
      "  'Nc1ccc(cc1)Oc1cnc(nc1)C',\n",
      "  'SCC[C@H](CC1CCCC1)CS',\n",
      "  'COc1c2CCCCc2cc(c1C)C',\n",
      "  'CC[C@@H]1COC(=O)N1C(C)C',\n",
      "  'OC(=O)CC(=C)c1ccc2c(c1)CCCN2C',\n",
      "  'CNC[C@@H](CSCC1CCCC1)C',\n",
      "  'OC[C@H]1NC[C@@H]2[N@@](C1)CCOC2',\n",
      "  'O[C@@H]1CC[C@H](C1)c1ccc2c(c1)OCCO2',\n",
      "  'CCc1nc(C)nc(c1)[C@H]([C@H](N)C)CC',\n",
      "  'NN1N(N)CN=C1O',\n",
      "  'CCOC(=S)S[C@@H](CC)C',\n",
      "  'N#Cc1cc(C=O)ccc1n1cnc(c1)C',\n",
      "  'OCC[C@@H](CNCc1cccc(c1)C(=N)O)C',\n",
      "  'CN(C(=O)CN[C@@H]1CCCc2c1ccs2)C',\n",
      "  'CC1CCN(CC1)c1n(C)nc(c1C(=O)O)C',\n",
      "  'O=N(=O)c1c(C)nn(c1C)CCC(F)(F)F',\n",
      "  'C1=CN2C(=CCN=C2)NN1',\n",
      "  'OCC(Cc1ccccc1)(CO)Cl',\n",
      "  'COC(=O)c1ccc2c(c1)/C(=N\\\\O)/CC2(C)C',\n",
      "  'CC([C@H](/C(=N\\\\c1ccc(cc1N)F)/O)C)C',\n",
      "  'CC#CC1=CC=C(C1)N(=O)=...)\n"
     ]
    },
    {
     "name": "stderr",
     "output_type": "stream",
     "text": [
      "100%|███████████████████████████████████████████████████████████████████████████████| 100000/100000 [09:43<00:00, 171.48it/s]\n"
     ]
    },
    {
     "name": "stdout",
     "output_type": "stream",
     "text": [
      "_____________________________________________compute_properties - 588.9s, 9.8min\n",
      "________________________________________________________________________________\n",
      "[Memory] Calling utils.compute_properties...\n",
      "compute_properties([ 'COc1ccccc1N[C@H](/C(=N\\\\C(=N)O)/O)C',\n",
      "  'COc1ccccc1N[C@H](/C(=N\\\\C(=N)O)/O)C',\n",
      "  'CC(/N=C(\\\\N/N=C/1\\\\C[C@H]2[C@@H]1CC=C2)/S)C',\n",
      "  'CC(/N=C(\\\\N/N=C/1\\\\C[C@H]2[C@@H]1CC=C2)/S)C',\n",
      "  'C/N=C(\\\\c1cc2c(s1)ccc(c2)F)/O',\n",
      "  'C/N=C(\\\\CSc1ccccc1N(=O)=O)/O',\n",
      "  'C[C@@H](/C(=N\\\\C)/O)Sc1ccc(cc1)N(=O)=O',\n",
      "  'CNC(=O)c1sc2c(c1)c(F)ccc2',\n",
      "  'C/N=C(\\\\Cc1cc(ccc1OC)C(=O)C)/O',\n",
      "  'O=C(O[C@@H](/C(=N\\\\C1CC1)/O)C)Cn1cnnn1',\n",
      "  'CSc1nnnn1c1ccc(cc1)O',\n",
      "  'C/N=C(\\\\COC(=O)Cc1ccccc1OC)/O',\n",
      "  'COC(=O)c1ccc(c(c1)OC)OCC(=N)O',\n",
      "  'COC(=O)c1cccc(c1)OCC(=N)O',\n",
      "  'O/C(=N/C(=N)O)/COc1cccc(c1)C(=O)C',\n",
      "  'C/N=C(\\\\COc1cccc(c1)C(=O)C)/O',\n",
      "  'C/C(=N\\\\c1ccc(cc1)S[C@H](C(=N)O)C)/O',\n",
      "  'OC(=N)COc1ccc(cc1)N1CCCC1=O',\n",
      "  'COc1ccc(cc1)SC1=N...)\n"
     ]
    },
    {
     "name": "stderr",
     "output_type": "stream",
     "text": [
      "100%|█████████████████████████████████████████████████████████████████████████████████| 73545/73545 [07:14<00:00, 169.23it/s]\n"
     ]
    },
    {
     "name": "stdout",
     "output_type": "stream",
     "text": [
      "_____________________________________________compute_properties - 438.8s, 7.3min\n"
     ]
    }
   ],
   "source": [
    "\n",
    "#compute the properties \n",
    "desc_names_tarin, properties_train = compute_properties(smiles_train)\n",
    "desc_names_test, properties_test = compute_properties(smiles_test)\n",
    "\n",
    "\n",
    "\n",
    "selected_prop = ['NumAromaticCarbocycles',\n",
    "                'NumAromaticRings',\n",
    "                'NumSaturatedRings',\n",
    "                'fr_aniline',\n",
    "                'fr_benzene',\n",
    "                'fr_bicyclic',\n",
    "                'fr_ketone',\n",
    "                'fr_methoxy',\n",
    "                'fr_para_hydroxylation',\n",
    "                'fr_pyridine']\n",
    "\n",
    "y_train = properties_train[selected_prop].values.copy()\n",
    "y_train[y_train>1] = 1 # binarize\n",
    "\n",
    "y_test = properties_test[selected_prop].values.copy()\n",
    "y_test[y_test>1] = 1 # binarize\n"
   ]
  },
  {
   "cell_type": "code",
   "execution_count": null,
   "id": "04e2d5ab",
   "metadata": {},
   "outputs": [],
   "source": [
    "checkpoint_path = ''"
   ]
  },
  {
   "cell_type": "code",
   "execution_count": 27,
   "id": "ec578b69",
   "metadata": {
    "scrolled": true
   },
   "outputs": [
    {
     "name": "stdout",
     "output_type": "stream",
     "text": [
      "../../evalgnn/Prob_LS/checkpoints/gcn_virtual/checkpoint.pt\n"
     ]
    },
    {
     "name": "stderr",
     "output_type": "stream",
     "text": [
      "Iteration: 100%|███████████████████████████████████████████████████████████████████████████| 196/196 [01:09<00:00,  2.80it/s]\n"
     ]
    },
    {
     "name": "stdout",
     "output_type": "stream",
     "text": [
      "../../evalgnn/Prob_LS/checkpoints/gcn_virtual/checkpoint.pt\n"
     ]
    },
    {
     "name": "stderr",
     "output_type": "stream",
     "text": [
      "Iteration: 100%|███████████████████████████████████████████████████████████████████████████| 144/144 [00:51<00:00,  2.79it/s]\n"
     ]
    }
   ],
   "source": [
    "res_all_mean={}\n",
    "res_all_std={}\n",
    "for gnn in gnns:\n",
    "\n",
    "\n",
    "        embd_train = get_fingerprint_GNN(smiles_train,f'{gnn}-virtual', checkpoint=f'../../evalgnn/Prob_LS/checkpoints/{gnn}_virtual/checkpoint.pt',batch_size=512)\n",
    "        embd_test = get_fingerprint_GNN(smiles_test,f'{gnn}-virtual', checkpoint=f'../../evalgnn/Prob_LS/checkpoints/{gnn}_virtual/checkpoint.pt',batch_size=512)\n",
    "\n",
    "        \n",
    "        \n",
    "        \n",
    "            \n",
    "        res=[]\n",
    "        for n_label in range(y_train.shape[1]):  \n",
    "            if len(np.unique(y_test[:,n_label][(y_test[:,n_label] == y_test[:,n_label])])) < 2:\n",
    "                continue\n",
    "            res.append(linear_probing(embedding_train=embd_train[-1], y_train=y_train[:,n_label],\n",
    "                                      embeding_test=embd_test[-1], y_test=y_test[:, n_label], task='classification',scale=True,))\n",
    "        con = pd.DataFrame(res, index=selected_prop).T\n",
    "        res_all_mean[f'{gnn}']= con\n",
    "\n"
   ]
  },
  {
   "cell_type": "code",
   "execution_count": 28,
   "id": "72ff9383",
   "metadata": {},
   "outputs": [
    {
     "data": {
      "text/html": [
       "<div>\n",
       "<style scoped>\n",
       "    .dataframe tbody tr th:only-of-type {\n",
       "        vertical-align: middle;\n",
       "    }\n",
       "\n",
       "    .dataframe tbody tr th {\n",
       "        vertical-align: top;\n",
       "    }\n",
       "\n",
       "    .dataframe thead th {\n",
       "        text-align: right;\n",
       "    }\n",
       "</style>\n",
       "<table border=\"1\" class=\"dataframe\">\n",
       "  <thead>\n",
       "    <tr style=\"text-align: right;\">\n",
       "      <th></th>\n",
       "      <th></th>\n",
       "      <th>NumAromaticCarbocycles</th>\n",
       "      <th>NumAromaticRings</th>\n",
       "      <th>NumSaturatedRings</th>\n",
       "      <th>fr_aniline</th>\n",
       "      <th>fr_benzene</th>\n",
       "      <th>fr_bicyclic</th>\n",
       "      <th>fr_ketone</th>\n",
       "      <th>fr_methoxy</th>\n",
       "      <th>fr_para_hydroxylation</th>\n",
       "      <th>fr_pyridine</th>\n",
       "    </tr>\n",
       "  </thead>\n",
       "  <tbody>\n",
       "    <tr>\n",
       "      <th rowspan=\"4\" valign=\"top\">gcn</th>\n",
       "      <th>log_loss</th>\n",
       "      <td>0.187415</td>\n",
       "      <td>0.109151</td>\n",
       "      <td>0.422762</td>\n",
       "      <td>0.275579</td>\n",
       "      <td>0.187033</td>\n",
       "      <td>0.355493</td>\n",
       "      <td>0.113781</td>\n",
       "      <td>0.288564</td>\n",
       "      <td>0.226182</td>\n",
       "      <td>0.173817</td>\n",
       "    </tr>\n",
       "    <tr>\n",
       "      <th>accuracy</th>\n",
       "      <td>0.935903</td>\n",
       "      <td>0.967816</td>\n",
       "      <td>0.840683</td>\n",
       "      <td>0.900659</td>\n",
       "      <td>0.936080</td>\n",
       "      <td>0.860711</td>\n",
       "      <td>0.967041</td>\n",
       "      <td>0.894595</td>\n",
       "      <td>0.910069</td>\n",
       "      <td>0.937236</td>\n",
       "    </tr>\n",
       "    <tr>\n",
       "      <th>f1_score</th>\n",
       "      <td>0.935867</td>\n",
       "      <td>0.964757</td>\n",
       "      <td>0.792264</td>\n",
       "      <td>0.765680</td>\n",
       "      <td>0.936042</td>\n",
       "      <td>0.793409</td>\n",
       "      <td>0.906618</td>\n",
       "      <td>0.638962</td>\n",
       "      <td>0.710575</td>\n",
       "      <td>0.732988</td>\n",
       "    </tr>\n",
       "    <tr>\n",
       "      <th>roc_auc</th>\n",
       "      <td>0.980808</td>\n",
       "      <td>0.992162</td>\n",
       "      <td>0.877461</td>\n",
       "      <td>0.896192</td>\n",
       "      <td>0.980878</td>\n",
       "      <td>0.897034</td>\n",
       "      <td>0.981580</td>\n",
       "      <td>0.821035</td>\n",
       "      <td>0.908016</td>\n",
       "      <td>0.904066</td>\n",
       "    </tr>\n",
       "  </tbody>\n",
       "</table>\n",
       "</div>"
      ],
      "text/plain": [
       "              NumAromaticCarbocycles  NumAromaticRings  NumSaturatedRings  \\\n",
       "gcn log_loss                0.187415          0.109151           0.422762   \n",
       "    accuracy                0.935903          0.967816           0.840683   \n",
       "    f1_score                0.935867          0.964757           0.792264   \n",
       "    roc_auc                 0.980808          0.992162           0.877461   \n",
       "\n",
       "              fr_aniline  fr_benzene  fr_bicyclic  fr_ketone  fr_methoxy  \\\n",
       "gcn log_loss    0.275579    0.187033     0.355493   0.113781    0.288564   \n",
       "    accuracy    0.900659    0.936080     0.860711   0.967041    0.894595   \n",
       "    f1_score    0.765680    0.936042     0.793409   0.906618    0.638962   \n",
       "    roc_auc     0.896192    0.980878     0.897034   0.981580    0.821035   \n",
       "\n",
       "              fr_para_hydroxylation  fr_pyridine  \n",
       "gcn log_loss               0.226182     0.173817  \n",
       "    accuracy               0.910069     0.937236  \n",
       "    f1_score               0.710575     0.732988  \n",
       "    roc_auc                0.908016     0.904066  "
      ]
     },
     "execution_count": 28,
     "metadata": {},
     "output_type": "execute_result"
    }
   ],
   "source": [
    "pd.concat(res_all_mean)"
   ]
  }
 ],
 "metadata": {
  "kernelspec": {
   "display_name": "Python 3 (ipykernel)",
   "language": "python",
   "name": "python3"
  },
  "language_info": {
   "codemirror_mode": {
    "name": "ipython",
    "version": 3
   },
   "file_extension": ".py",
   "mimetype": "text/x-python",
   "name": "python",
   "nbconvert_exporter": "python",
   "pygments_lexer": "ipython3",
   "version": "3.8.12"
  }
 },
 "nbformat": 4,
 "nbformat_minor": 5
}
